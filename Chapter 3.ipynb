{
 "cells": [
  {
   "cell_type": "markdown",
   "metadata": {},
   "source": [
    "# Item 25. Initialize Parent Classes with super"
   ]
  },
  {
   "cell_type": "markdown",
   "metadata": {},
   "source": [
    "Summary\n",
    "* Python's MRO (Method Resolution Order) solves superclass initialization order and diamond inheritance\n",
    "    * MRO goes depth first, left-right\n",
    "* Always use super to initialize parent classes"
   ]
  },
  {
   "cell_type": "markdown",
   "metadata": {},
   "source": [
    "## How to use"
   ]
  },
  {
   "cell_type": "code",
   "execution_count": 1,
   "metadata": {},
   "outputs": [],
   "source": [
    "class MyBaseClass(object):\n",
    "    def __init__(self, value):\n",
    "        self.value = value\n",
    "    \n",
    "class MyChildClass(MyBaseClass):\n",
    "    def __init__(self):\n",
    "        MyBaseClass.__init__(self, 5)"
   ]
  },
  {
   "cell_type": "code",
   "execution_count": 3,
   "metadata": {},
   "outputs": [],
   "source": [
    "b = MyBaseClass(2)"
   ]
  },
  {
   "cell_type": "code",
   "execution_count": 5,
   "metadata": {},
   "outputs": [
    {
     "data": {
      "text/plain": [
       "2"
      ]
     },
     "execution_count": 5,
     "metadata": {},
     "output_type": "execute_result"
    }
   ],
   "source": [
    "b.value"
   ]
  },
  {
   "cell_type": "code",
   "execution_count": 4,
   "metadata": {},
   "outputs": [],
   "source": [
    "c = MyChildClass()"
   ]
  },
  {
   "cell_type": "code",
   "execution_count": 6,
   "metadata": {},
   "outputs": [
    {
     "data": {
      "text/plain": [
       "5"
      ]
     },
     "execution_count": 6,
     "metadata": {},
     "output_type": "execute_result"
    }
   ],
   "source": [
    "c.value"
   ]
  },
  {
   "cell_type": "markdown",
   "metadata": {},
   "source": [
    "## Problem 1"
   ]
  },
  {
   "cell_type": "markdown",
   "metadata": {},
   "source": [
    "### 1. Issues with multi-inheritance order of calls\n",
    "\\_\\_init\\_\\_ call order isn't specified across all subclasses"
   ]
  },
  {
   "cell_type": "code",
   "execution_count": 8,
   "metadata": {},
   "outputs": [],
   "source": [
    "# Parent classes\n",
    "class TimesTwo(object):\n",
    "    def __init__(self):\n",
    "        self.value *= 2\n",
    "        \n",
    "class PlusFive(object):\n",
    "    def __init__(self):\n",
    "        self.value += 5"
   ]
  },
  {
   "cell_type": "code",
   "execution_count": 9,
   "metadata": {},
   "outputs": [],
   "source": [
    "# Children class with multiple inheritance"
   ]
  },
  {
   "cell_type": "code",
   "execution_count": 10,
   "metadata": {},
   "outputs": [],
   "source": [
    "class OneWay(MyBaseClass, TimesTwo, PlusFive):\n",
    "    def __init__(self, value):\n",
    "        MyBaseClass.__init__(self, value)\n",
    "        TimesTwo.__init__(self)\n",
    "        PlusFive.__init__(self)"
   ]
  },
  {
   "cell_type": "code",
   "execution_count": 13,
   "metadata": {},
   "outputs": [
    {
     "name": "stdout",
     "output_type": "stream",
     "text": [
      "First ordering is (5 * 2) + 5 = 15\n"
     ]
    }
   ],
   "source": [
    "foo = OneWay(5)\n",
    "print('First ordering is (5 * 2) + 5 =', foo.value)"
   ]
  },
  {
   "cell_type": "code",
   "execution_count": 14,
   "metadata": {},
   "outputs": [],
   "source": [
    "# Children class with multiple inheritance another way\n",
    "class AnotherWay(MyBaseClass, PlusFive, TimesTwo):\n",
    "    def __init__(self, value):\n",
    "        MyBaseClass.__init__(self, value)\n",
    "        TimesTwo.__init__(self)\n",
    "        PlusFive.__init__(self)"
   ]
  },
  {
   "cell_type": "code",
   "execution_count": 16,
   "metadata": {},
   "outputs": [
    {
     "name": "stdout",
     "output_type": "stream",
     "text": [
      "Second ordering is still (5 * 2) + 5 = 15\n"
     ]
    }
   ],
   "source": [
    "bar = AnotherWay(5)\n",
    "print('Second ordering is still (5 * 2) + 5 =', foo.value)"
   ]
  },
  {
   "cell_type": "markdown",
   "metadata": {},
   "source": [
    "**Changing the order of inheritance changes the order in which classes are called despite \\_\\_init\\_\\_ order**"
   ]
  },
  {
   "cell_type": "markdown",
   "metadata": {},
   "source": [
    "## 2. Issues with diamond inheritance\n",
    "* Diamond inheritance = when subclass inherits from two separate classes that have the same superclass somewhere in the hierarchy\n",
    "* Diamond inheritance causes common superclass's \\_\\_init\\_\\_ methood to run multile times causing unexpected behavior"
   ]
  },
  {
   "cell_type": "code",
   "execution_count": 18,
   "metadata": {},
   "outputs": [],
   "source": [
    "# Two child classes that inherit from MyBaseClass\n",
    "\n",
    "class TimesFive(MyBaseClass):\n",
    "    def __init__(self, value):\n",
    "        MyBaseClass.__init__(self, value)\n",
    "        self.value *= 5\n",
    "\n",
    "class PlusTwo(MyBaseClass):\n",
    "    def __init__(self, value):\n",
    "        MyBaseClass.__init__(self, value)\n",
    "        self.value += 2"
   ]
  },
  {
   "cell_type": "code",
   "execution_count": 22,
   "metadata": {},
   "outputs": [],
   "source": [
    "# Child class that inherits from above two child classes\n",
    "class ThisWay(TimesFive, PlusTwo):\n",
    "    def __init__(self, value):\n",
    "        TimesFive.__init__(self, value)\n",
    "        PlusTwo.__init__(self, value) # -> calls MyBaseClass.__init__ a second time\n",
    "                                      # This resets class.value to 5"
   ]
  },
  {
   "cell_type": "code",
   "execution_count": 21,
   "metadata": {},
   "outputs": [
    {
     "name": "stdout",
     "output_type": "stream",
     "text": [
      "Should be (5 * 5) + 2 = 27, but is 7\n"
     ]
    }
   ],
   "source": [
    "foo = ThisWay(5)\n",
    "print(\"Should be (5 * 5) + 2 = 27, but is\", foo.value)"
   ]
  },
  {
   "cell_type": "markdown",
   "metadata": {},
   "source": [
    "* This is because call to second parent class's construct PlusTwo.\\_\\_init\\_\\_ causes self.value to be reset back to 5 when MyBaseClass.\\_\\_init\\_\\_ is called a second time\n",
    "* To fix this issue Python 2.2 added super function\n",
    "    * This defines MRO (Method Resolution Order)\n",
    "    * depth first, left to right when superclasses are initialied before others"
   ]
  },
  {
   "cell_type": "code",
   "execution_count": 23,
   "metadata": {},
   "outputs": [
    {
     "name": "stdout",
     "output_type": "stream",
     "text": [
      "Should be 5 * (5 + 2) = 35 and is 35\n"
     ]
    }
   ],
   "source": [
    "# Solution to fix issue\n",
    "# Python 2\n",
    "class TimesFiveCorrect(MyBaseClass):\n",
    "    def __init__(self, value):\n",
    "        super(TimesFiveCorrect, self).__init__(value)\n",
    "        self.value *= 5\n",
    "class PlusTwoCorrect(MyBaseClass):\n",
    "    def __init__(self, value):\n",
    "        super(PlusTwoCorrect, self).__init__(value)\n",
    "        self.value += 2\n",
    "        \n",
    "class GoodWay(TimesFiveCorrect, PlusTwoCorrect):\n",
    "    def __init__(self, value):\n",
    "        super(GoodWay, self).__init__(value)\n",
    "        \n",
    "foo = GoodWay(5)\n",
    "print(\"Should be 5 * (5 + 2) = 35 and is\", foo.value)"
   ]
  },
  {
   "cell_type": "markdown",
   "metadata": {},
   "source": [
    "This is weird. Shouldn't TimesFiveCorrect.\\_\\_init\\_\\_ have run first? Shouldn't it be (5 * 5) + 2 = 27?"
   ]
  },
  {
   "cell_type": "markdown",
   "metadata": {},
   "source": [
    "No because the ordering matches what the MRO defines. You can check MRO ordering via mro\n"
   ]
  },
  {
   "cell_type": "code",
   "execution_count": 24,
   "metadata": {},
   "outputs": [
    {
     "name": "stdout",
     "output_type": "stream",
     "text": [
      "[<class '__main__.GoodWay'>,\n",
      " <class '__main__.TimesFiveCorrect'>,\n",
      " <class '__main__.PlusTwoCorrect'>,\n",
      " <class '__main__.MyBaseClass'>,\n",
      " <class 'object'>]\n"
     ]
    }
   ],
   "source": [
    "from pprint import pprint\n",
    "pprint(GoodWay.mro())"
   ]
  },
  {
   "cell_type": "markdown",
   "metadata": {},
   "source": [
    "1. GoodWay(5) calls TimesFiveCorrect.\\_\\_init\\_\\_\n",
    "2. TimesFiveCorrect.\\_\\_init\\_\\_ calls MyBaseClass.\\_\\_init\\_\\_\n",
    "    a. Once this reaches top of the diamond then the initialization methods do their work in the opposite order from how \\_\\_init\\_\\_ was called\n",
    "\n",
    "### What happens\n",
    "1. MyBaseClass.\\_\\_init\\_\\_ assigns value to 5\n",
    "2. PlusTwoCorrect.\\_\\_init\\_\\_ adds 2 to make value equal to 7\n",
    "3. TimesFiveCorrect.\\_\\_init\\_\\_ multiplies it by 5 to make value equal to 35"
   ]
  },
  {
   "cell_type": "markdown",
   "metadata": {},
   "source": [
    "super works, but there's two issues with Python2 syntax\n",
    "* It's verbose. Have to specify which class you're in in self\n",
    "* Have to specify current class by name in call to super i.e. have to update every call to super"
   ]
  },
  {
   "cell_type": "markdown",
   "metadata": {},
   "source": [
    "Python3 fixes this by making super with no arguments same as callign super with \\_\\_class\\_\\_ and self specified -> always use super"
   ]
  },
  {
   "cell_type": "code",
   "execution_count": 27,
   "metadata": {},
   "outputs": [],
   "source": [
    "class Explicit(MyBaseClass):\n",
    "    def __init__(self, value):\n",
    "        super(__class__, self).__init__(value * 2)\n",
    "\n",
    "class Implicit(MyBaseClass):\n",
    "    def __init__(self, value):\n",
    "        super().__init__(value * 2)\n",
    "        \n",
    "assert Explicit(10).value == Implicit(10).value"
   ]
  },
  {
   "cell_type": "markdown",
   "metadata": {},
   "source": [
    "# Item 26. Use Multiple Inheritance Only for Mix-in Utility Classes"
   ]
  },
  {
   "cell_type": "markdown",
   "metadata": {},
   "source": [
    "Summary\n",
    "* Best to avoid multiple inheritance\n",
    "* Use a mix-in (dynamic inspection) instead. \n",
    "    * Mix-ins are small classes that only defines a set of additional methods that a class should provide.\n",
    "    * Mix-ins don't define their own instance attributes or require \\_\\_init\\_\\_ to be called\n",
    "* Use pluggable behaviors at instance lelvel to provide per class customization\n",
    "* Compose mix-ins to create complex functionality from simple behaviors"
   ]
  },
  {
   "cell_type": "code",
   "execution_count": 78,
   "metadata": {},
   "outputs": [],
   "source": [
    "## How to use mix-ins\n",
    "class ToDictMixin(object):\n",
    "    def to_dict(self):\n",
    "        return self._traverse_dict(self.__dict__)"
   ]
  },
  {
   "cell_type": "markdown",
   "metadata": {},
   "source": [
    "Relies on dynamic attribute access using hasattr, dynamic type inspection with isinstance, and accessing instance dictionary with \\_\\_dict\\_\\_"
   ]
  },
  {
   "cell_type": "code",
   "execution_count": 83,
   "metadata": {},
   "outputs": [
    {
     "name": "stdout",
     "output_type": "stream",
     "text": [
      "{'left': {'left': None,\n",
      "          'right': {'left': None, 'right': None, 'value': 9},\n",
      "          'value': 7},\n",
      " 'right': {'left': {'left': None, 'right': None, 'value': 11},\n",
      "           'right': None,\n",
      "           'value': 13},\n",
      " 'value': 10}\n"
     ]
    }
   ],
   "source": [
    "class ToDictMixin(object):\n",
    "    def to_dict(self):\n",
    "        return self._traverse_dict(self.__dict__)\n",
    "\n",
    "    def _traverse_dict(self, instance_dict):\n",
    "        output = {}\n",
    "        for key, value in instance_dict.items():\n",
    "            output[key] = self._traverse(key, value)\n",
    "        return output\n",
    "\n",
    "    def _traverse(self, key, value):\n",
    "        if isinstance(value, ToDictMixin):\n",
    "            return value.to_dict()\n",
    "        elif isinstance(value, dict):\n",
    "            return self._traverse_dict(value)\n",
    "        elif isinstance(value, list):\n",
    "            return [self._traverse(key, i) for i in value]\n",
    "        elif hasattr(value, '__dict__'):\n",
    "            return self._traverse_dict(value.__dict__)\n",
    "        else:\n",
    "            return value\n",
    "\n",
    "class BinaryTree(ToDictMixin):\n",
    "    def __init__(self, value, left=None, right=None):\n",
    "        self.value = value\n",
    "        self.left = left\n",
    "        self.right = right\n",
    "\n",
    "tree = BinaryTree(\n",
    "        10,\n",
    "        left=BinaryTree(7, right=BinaryTree(9)),\n",
    "        right=BinaryTree(13, left=BinaryTree(11))\n",
    ")\n",
    "\n",
    "pprint(tree.to_dict())"
   ]
  },
  {
   "cell_type": "markdown",
   "metadata": {},
   "source": [
    "Translating a lot of Python objects into a dictionary is now easier"
   ]
  },
  {
   "cell_type": "code",
   "execution_count": 84,
   "metadata": {},
   "outputs": [],
   "source": [
    "class BinaryTreeWithParent(BinaryTree):\n",
    "    def __init__(self, value, left=None, right=None, parent=None):\n",
    "        super().__init__(value, left=left, right=right)\n",
    "        self.parent = parent\n",
    "    def _traverse(self, key, value):\n",
    "        if (isinstance(value, BinaryTreeWithParent) and key == 'parent'):\n",
    "            return value.value\n",
    "        else:\n",
    "            return super()._traverse(key, value)"
   ]
  },
  {
   "cell_type": "code",
   "execution_count": 86,
   "metadata": {},
   "outputs": [
    {
     "name": "stdout",
     "output_type": "stream",
     "text": [
      "{'left': {'left': None,\n",
      "          'parent': 10,\n",
      "          'right': {'left': None, 'parent': 7, 'right': None, 'value': 9},\n",
      "          'value': 7},\n",
      " 'parent': None,\n",
      " 'right': None,\n",
      " 'value': 10}\n"
     ]
    }
   ],
   "source": [
    "root = BinaryTreeWithParent(10)\n",
    "root.left = BinaryTreeWithParent(7, parent=root)\n",
    "root.left.right = BinaryTreeWithParent(9, parent=root.left)\n",
    "pprint(root.to_dict())"
   ]
  },
  {
   "cell_type": "markdown",
   "metadata": {},
   "source": [
    "By defining BinaryTreeWithParent.\\_traverse any class with attribute of type BinaryTreeWithParent will automatically work with ToDictMixin"
   ]
  },
  {
   "cell_type": "code",
   "execution_count": 89,
   "metadata": {},
   "outputs": [
    {
     "name": "stdout",
     "output_type": "stream",
     "text": [
      "{'name': 'foobar',\n",
      " 'tree_with_parent': {'left': None, 'parent': 7, 'right': None, 'value': 9}}\n"
     ]
    }
   ],
   "source": [
    "class NamedSubTree(ToDictMixin):\n",
    "    def __init__(self, name, tree_with_parent):\n",
    "        self.name = name\n",
    "        self.tree_with_parent = tree_with_parent\n",
    "        \n",
    "my_tree = NamedSubTree('foobar', root.left.right)\n",
    "pprint(my_tree.to_dict())"
   ]
  },
  {
   "cell_type": "markdown",
   "metadata": {},
   "source": [
    "### Mix-in can also be composed together"
   ]
  },
  {
   "cell_type": "code",
   "execution_count": 91,
   "metadata": {},
   "outputs": [],
   "source": [
    "class JsonMixin(object):\n",
    "    @classmethod\n",
    "    def from_json(cls, data):\n",
    "        kwargs = json.loads(data)\n",
    "        return cls(**kwargs)\n",
    "    def to_json(self):\n",
    "        return json.dumps(self.to_dict())"
   ]
  },
  {
   "cell_type": "markdown",
   "metadata": {},
   "source": [
    "JsonMixin defines both instance methods and class methods\n",
    "* Mix-ins let you add either behavior\n",
    "* In this example only requirement of JsonMixin is that class has a to_dict method and its \\_\\_init\\_\\_ method takes keyword arguments\n",
    "* Mix-in makes it simple to create hierarchy of utility classes to be serialized to and from JSON"
   ]
  },
  {
   "cell_type": "code",
   "execution_count": 100,
   "metadata": {},
   "outputs": [],
   "source": [
    "class DatacenterRack(ToDictMixin, JsonMixin):\n",
    "    def __init__(self, switch=None, machines=None):\n",
    "        self.switch = Switch(**switch)\n",
    "        self.machines = [\n",
    "            Machine(**kwargs) for kwargs in machines\n",
    "        ]\n",
    "        \n",
    "class Switch(ToDictMixin, JsonMixin):\n",
    "    def __init__(self, ports, speed):\n",
    "        self.ports = ports\n",
    "        self.speed = speed\n",
    "\n",
    "class Machine(ToDictMixin, JsonMixin):\n",
    "    def __init__(self, cores, ram, disk):\n",
    "        self.cores = cores\n",
    "        self.ram = ram\n",
    "        self.disk = disk"
   ]
  },
  {
   "cell_type": "code",
   "execution_count": 102,
   "metadata": {},
   "outputs": [],
   "source": [
    "import json\n",
    "serialized = \"\"\"{\n",
    "       \"switch\": {\"ports\": 5, \"speed\": 1e9},\n",
    "       \"machines\": [\n",
    "           {\"cores\": 8, \"ram\": 32e9, \"disk\": 5e12},\n",
    "           {\"cores\": 4, \"ram\": 16e9, \"disk\": 1e12},\n",
    "           {\"cores\": 2, \"ram\": 4e9, \"disk\": 500e9}\n",
    "] }\"\"\"\n",
    "deserialized = DatacenterRack.from_json(serialized) \n",
    "roundtrip = deserialized.to_json()\n",
    "assert json.loads(serialized) == json.loads(roundtrip)"
   ]
  },
  {
   "cell_type": "code",
   "execution_count": 103,
   "metadata": {},
   "outputs": [
    {
     "data": {
      "text/plain": [
       "{'switch': {'ports': 5, 'speed': 1000000000.0},\n",
       " 'machines': [{'cores': 8, 'ram': 32000000000.0, 'disk': 5000000000000.0},\n",
       "  {'cores': 4, 'ram': 16000000000.0, 'disk': 1000000000000.0},\n",
       "  {'cores': 2, 'ram': 4000000000.0, 'disk': 500000000000.0}]}"
      ]
     },
     "execution_count": 103,
     "metadata": {},
     "output_type": "execute_result"
    }
   ],
   "source": [
    "json.loads(serialized)"
   ]
  },
  {
   "cell_type": "code",
   "execution_count": 104,
   "metadata": {},
   "outputs": [
    {
     "data": {
      "text/plain": [
       "{'switch': {'ports': 5, 'speed': 1000000000.0},\n",
       " 'machines': [{'cores': 8, 'ram': 32000000000.0, 'disk': 5000000000000.0},\n",
       "  {'cores': 4, 'ram': 16000000000.0, 'disk': 1000000000000.0},\n",
       "  {'cores': 2, 'ram': 4000000000.0, 'disk': 500000000000.0}]}"
      ]
     },
     "execution_count": 104,
     "metadata": {},
     "output_type": "execute_result"
    }
   ],
   "source": [
    "json.loads(roundtrip)"
   ]
  },
  {
   "cell_type": "code",
   "execution_count": null,
   "metadata": {},
   "outputs": [],
   "source": []
  }
 ],
 "metadata": {
  "kernelspec": {
   "display_name": "Python 3",
   "language": "python",
   "name": "python3"
  },
  "language_info": {
   "codemirror_mode": {
    "name": "ipython",
    "version": 3
   },
   "file_extension": ".py",
   "mimetype": "text/x-python",
   "name": "python",
   "nbconvert_exporter": "python",
   "pygments_lexer": "ipython3",
   "version": "3.9.0"
  }
 },
 "nbformat": 4,
 "nbformat_minor": 4
}
